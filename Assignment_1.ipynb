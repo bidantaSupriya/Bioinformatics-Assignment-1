{
 "cells": [
  {
   "cell_type": "code",
   "execution_count": 47,
   "metadata": {},
   "outputs": [],
   "source": [
    "import numpy as np\n",
    "import random as rn"
   ]
  },
  {
   "cell_type": "code",
   "execution_count": 141,
   "metadata": {},
   "outputs": [],
   "source": [
    "#Method to create a sequence of RYs\n",
    "\n",
    "def generate_sequence(n, probability):\n",
    "    \n",
    "    sequence = ''\n",
    "    letter = (list(probability.keys())[0])\n",
    "    letter1 = (list(probability.keys())[1])\n",
    "    letter_prob = (list(probability.values())[0])\n",
    "    letter1_prod = ((list(probability.values())[0]))\n",
    "    for a in range(n):\n",
    "        value = rn.random()\n",
    "        if value >= letter_prob:\n",
    "            sequence+=letter\n",
    "        elif value <= letter1_prod:\n",
    "            sequence+=letter1     \n",
    "    return sequence\n",
    "\n",
    "# Method to calculate the waiting time for given pattern in a random sequence\n",
    "\n",
    "def cal_waiting_time(sequence, pattern):\n",
    "    t = 0\n",
    "    Len = len(sequence)\n",
    "    i = 0\n",
    "     \n",
    "    # Iterate from 0 to Len - 1\n",
    "    for i in range(Len):\n",
    "        if (t == len(pattern)):\n",
    "            break\n",
    "        if (sequence[i] == pattern[t]):\n",
    "            t += 1\n",
    "        else:\n",
    "            t = 0\n",
    "             \n",
    "    if (t < len(pattern)):\n",
    "        return -1\n",
    "    else:\n",
    "        return (i - t)"
   ]
  },
  {
   "cell_type": "code",
   "execution_count": 149,
   "metadata": {},
   "outputs": [
    {
     "name": "stdout",
     "output_type": "stream",
     "text": [
      "Number of sequences to generate: 20\n",
      "The average waiting time for pattern RR in all 20 sequences is 4.4\n"
     ]
    }
   ],
   "source": [
    "#Given the probability of both the letter is equal\n",
    "probability = {'R' : .5 , 'Y': .5}\n",
    "pattern = 'RR'\n",
    "n = 20\n",
    "waiting_time_list = []\n",
    "for i in range(n):\n",
    "    seq = generate_sequence(n,probability)\n",
    "    waiting_time = cal_waiting_time(seq, pattern)\n",
    "    waiting_time_list.append(waiting_time)\n",
    "Average_waiting_time = np.mean(waiting_time_list)\n",
    "print(\"Number of sequences to generate: {0}\".format(n))\n",
    "print('The average waiting time for pattern {0} in all {1} sequences is {2}'.format(pattern, n, Average_waiting_time))\n"
   ]
  },
  {
   "cell_type": "code",
   "execution_count": 153,
   "metadata": {},
   "outputs": [],
   "source": [
    "def waiting_time(probability, pattern):    \n",
    "   \n",
    "    pattern_size = len(pattern)    \n",
    "    sequence = ''\n",
    "    \n",
    "    while len(sequence) < pattern_size or sequence[-pattern_size:] != pattern:\n",
    "        ran = rn.random()\n",
    "        p = 0\n",
    "        for letter in probability :\n",
    "            p += probability[letter]\n",
    "            if ran<p:\n",
    "                sequence += letter\n",
    "                break\n",
    "    return len(sequence)"
   ]
  },
  {
   "cell_type": "code",
   "execution_count": 156,
   "metadata": {},
   "outputs": [
    {
     "name": "stdout",
     "output_type": "stream",
     "text": [
      "Generating Sequences\n",
      "Number of sequences to generate: 20\n",
      "Average waiting time for 20 sequences: 3.7\n"
     ]
    }
   ],
   "source": [
    "probability = dict()\n",
    "probability['R'] = 0.75\n",
    "probability['Y'] = 0.25\n",
    "#print(probability)\n",
    "pattern = 'RY'\n",
    "n=20\n",
    "\n",
    "print(\"Generating Sequences\")\n",
    "print(\"Number of sequences to generate: %d\" %n)\n",
    "waiting_times = [waiting_time(probability, pattern) for i in range(n)]\n",
    "\n",
    "print(\"Average waiting time for %d sequences: %.1f\" %(n, np.mean(waiting_times)))"
   ]
  },
  {
   "cell_type": "code",
   "execution_count": null,
   "metadata": {},
   "outputs": [],
   "source": []
  }
 ],
 "metadata": {
  "kernelspec": {
   "display_name": "Python 3",
   "language": "python",
   "name": "python3"
  },
  "language_info": {
   "codemirror_mode": {
    "name": "ipython",
    "version": 3
   },
   "file_extension": ".py",
   "mimetype": "text/x-python",
   "name": "python",
   "nbconvert_exporter": "python",
   "pygments_lexer": "ipython3",
   "version": "3.7.3"
  }
 },
 "nbformat": 4,
 "nbformat_minor": 2
}
